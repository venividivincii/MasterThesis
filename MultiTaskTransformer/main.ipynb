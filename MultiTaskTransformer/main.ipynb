{
 "cells": [
  {
   "cell_type": "code",
   "execution_count": 1,
   "metadata": {},
   "outputs": [],
   "source": [
    "# Imports\n",
    "import os\n",
    "import numpy as np\n",
    "import pandas as pd\n",
    "import tensorflow as tf\n",
    "from sklearn import metrics\n",
    "from typing import List, Optional\n",
    "import matplotlib.pyplot as plt\n",
    "from typing import Dict, Tuple\n",
    "\n",
    "from package.processtransformer import constants\n",
    "from package.processtransformer.models import transformer\n",
    "from package.processtransformer.data.loader import LogsDataLoader\n",
    "from package.processtransformer.data.processor import LogsDataProcessor\n",
    "from package.processtransformer.constants import Task\n",
    "\n",
    "\n",
    "# Initialize data dir, if not exists\n",
    "if not os.path.exists(\"datasets\"): \n",
    "    os.mkdir(\"datasets\")"
   ]
  },
  {
   "cell_type": "markdown",
   "metadata": {},
   "source": [
    "# Task: Next Activity"
   ]
  },
  {
   "cell_type": "code",
   "execution_count": 2,
   "metadata": {},
   "outputs": [],
   "source": [
    "class next_activity_pipeline:\n",
    "    \n",
    "    def __init__(self, dataset_name: str, filepath: str, columns: List[str], additional_columns: Optional[List[str]],\n",
    "                 datetime_format: str, task: Task, model_learning_rate: float, model_epochs: int, model_num_layers: int):\n",
    "        self.dataset_name: str = dataset_name\n",
    "        self.filepath: str = filepath\n",
    "        self.columns: List[str] = columns\n",
    "        self.additional_columns: Optional[List[str]] = additional_columns\n",
    "        self.datetime_format: str = datetime_format\n",
    "        self.task: Task = task\n",
    "        self.model_learning_rate: float = model_learning_rate\n",
    "        self.model_epochs: int = model_epochs\n",
    "        self.model_num_layers: int = model_num_layers\n",
    "        \n",
    "        self._preprocessing_id: str = f\"{dataset_name}##{'#'.join(columns)}##{'#'.join(additional_columns)}##{task.value}\"\n",
    "        self._model_id: str = (\n",
    "            f\"{dataset_name}\"\n",
    "            f\"##{'#'.join(self.columns)}\"\n",
    "            f\"##{'#'.join(self.additional_columns)}\"\n",
    "            f\"##{'#'.join(self.task.value)}\"\n",
    "            f\"##{self.model_learning_rate}\"\n",
    "            f\"##{self.model_epochs}\"\n",
    "            f\"##{self.model_num_layers}\")\n",
    "        \n",
    "        \n",
    "    def __str__(self):\n",
    "        return (\n",
    "            f\"dataset_name: '{self.dataset_name}'\\n\"\n",
    "            f\"filepath: '{self.filepath}'\\n\"\n",
    "            f\"columns: '{self.columns}'\\n\"\n",
    "            f\"additional_columns: '{self.additional_columns}'\\n\"\n",
    "            f\"datetime_format: '{self.datetime_format}'\\n\"\n",
    "            f\"task: '{self.task.value}'\\n\"\n",
    "            f\"Model learning rate: '{self.model_learning_rate}'\\n\"\n",
    "            f\"Model Epochs: '{self.model_epochs}'\\n\"\n",
    "            f\"Number of Transformer Layers in Model: '{self.model_num_layers}'\\n\")\n",
    "        \n",
    "    \n",
    "    # preprocess the event log and save the train-test split as csv files\n",
    "    def preprocess_log(self) -> List[int]:\n",
    "        data_processor = LogsDataProcessor(\n",
    "            name=self.dataset_name,\n",
    "            filepath=self.filepath,\n",
    "            columns=self.columns,\n",
    "            additional_columns=self.additional_columns,  # Add all additional columns here, first all categorical, then all numerical features\n",
    "            datetime_format=self.datetime_format,\n",
    "            pool=4\n",
    "        )\n",
    "        # Preprocess the event log and make train-test split\n",
    "        data_processor.process_logs(task=self.task, sort_temporally=False)\n",
    "        \n",
    "        # Compute the number of unique classes in each categorical column\n",
    "        train_df = pd.read_csv(f\"datasets/{self.dataset_name}/processed/{self.task.value}_train.csv\")\n",
    "        num_classes_list = data_processor._compute_num_classes(train_df)\n",
    "        \n",
    "        return num_classes_list\n",
    "    \n",
    "    \n",
    "    # load the preprocessed train-test split from the csv files\n",
    "    def load_data(self) -> Tuple [ LogsDataLoader, pd.DataFrame, pd.DataFrame, Dict[str, int], Dict[str, int], int, int, int ]:\n",
    "        data_loader = LogsDataLoader(name=self.dataset_name)\n",
    "        train_df, test_df, x_word_dict, y_word_dict, max_case_length, vocab_size, num_output = data_loader.load_data(self.task)\n",
    "        return data_loader, train_df, test_df, x_word_dict, y_word_dict, max_case_length, vocab_size, num_output\n",
    "    \n",
    "    \n",
    "    def prepare_data(self, data_loader, train_df, x_word_dict, y_word_dict, max_case_length, test_df):\n",
    "        print(\"Preparing data for task next_activity...\")\n",
    "        # Prepare training examples for next activity prediction task\n",
    "        train_token_x, train_token_y, train_additional_features, num_categorical_features, num_numerical_features = data_loader.prepare_data_next_activity(\n",
    "            train_df, x_word_dict, y_word_dict, max_case_length, full_df=pd.concat([train_df, test_df])\n",
    "        )\n",
    "        return train_token_x, train_token_y, train_additional_features, num_categorical_features, num_numerical_features\n",
    "    \n",
    "    \n",
    "    # Prepare data and train the model\n",
    "    def train(self,\n",
    "            num_categorical_features,\n",
    "            num_numerical_features,\n",
    "            train_additional_features,\n",
    "            train_token_x,\n",
    "            train_token_y,\n",
    "            max_case_length: int,\n",
    "            vocab_size: int,\n",
    "            num_output: int,\n",
    "            num_classes_list: List[int]\n",
    "            ) -> tf.keras.Model:\n",
    "        \n",
    "        batch_size = 12\n",
    "    \n",
    "        # Define and compile the model\n",
    "        model = transformer.get_next_activity_model(\n",
    "            max_case_length=max_case_length,\n",
    "            vocab_size=vocab_size,\n",
    "            output_dim=num_output,\n",
    "            num_categorical_features=num_categorical_features,\n",
    "            num_numerical_features=num_numerical_features,\n",
    "            num_classes_list=num_classes_list,  # Pass the computed number of classes list\n",
    "            num_layers=self.model_num_layers\n",
    "        )\n",
    "        model.compile(\n",
    "            optimizer=tf.keras.optimizers.Adam(self.model_learning_rate),\n",
    "            loss=tf.keras.losses.SparseCategoricalCrossentropy(from_logits=True),\n",
    "            metrics=[tf.keras.metrics.SparseCategoricalAccuracy()]\n",
    "        )\n",
    "\n",
    "        # Train the model\n",
    "        if train_additional_features.shape[1] == 0:\n",
    "            history = model.fit([train_token_x], train_token_y, epochs=self.model_epochs, batch_size=batch_size)\n",
    "        else:\n",
    "            history = model.fit([train_token_x, train_additional_features], train_token_y, epochs=self.model_epochs, batch_size=batch_size)\n",
    "            \n",
    "        # Plot training loss\n",
    "        self._plot_training_loss(history)\n",
    "        return model\n",
    "            \n",
    "            \n",
    "    def _plot_training_loss(self, history):\n",
    "        plt.figure(figsize=(10, 6))\n",
    "        plt.plot(history.history['loss'], label='Training Loss')\n",
    "        if 'val_loss' in history.history:\n",
    "            plt.plot(history.history['val_loss'], label='Validation Loss')\n",
    "        plt.xlabel('Epoch')\n",
    "        plt.ylabel('Loss')\n",
    "        plt.title('Training Loss Over Epochs')\n",
    "        plt.legend()\n",
    "        plt.grid(True)\n",
    "        plt.show()\n",
    "        \n",
    "    def evaluate(self, model, data_loader, train_df, test_df, max_case_length, x_word_dict, y_word_dict):\n",
    "        # Prepare lists to store evaluation metrics\n",
    "        k, accuracies, fscores, precisions, recalls, weights = [], [], [], [], [], []\n",
    "\n",
    "        # Calculate total number of samples\n",
    "        total_samples = len(test_df)\n",
    "\n",
    "        # Iterate over all prefixes (k)\n",
    "        for i in range(max_case_length):\n",
    "            test_data_subset = test_df[test_df[\"k\"] == i]\n",
    "            if len(test_data_subset) > 0:\n",
    "                # Calculate weight for this prefix\n",
    "                weight = len(test_data_subset) / total_samples\n",
    "                \n",
    "                # Prepare the test data\n",
    "                test_token_x, test_token_y, test_additional_features, _, _ = data_loader.prepare_data_next_activity(\n",
    "                    test_data_subset, x_word_dict, y_word_dict, max_case_length, full_df=pd.concat([train_df, test_df])\n",
    "                )\n",
    "                \n",
    "                # Make predictions\n",
    "                if test_additional_features.shape[1] != 0:\n",
    "                    y_pred = np.argmax(model.predict([test_token_x, test_additional_features]), axis=1)\n",
    "                else:\n",
    "                    y_pred = np.argmax(model.predict([test_token_x]), axis=1)\n",
    "                \n",
    "                # Compute metrics\n",
    "                accuracy = metrics.accuracy_score(test_token_y, y_pred)\n",
    "                precision, recall, fscore, _ = metrics.precision_recall_fscore_support(test_token_y, y_pred, average=\"weighted\")\n",
    "                \n",
    "                # Store metrics and weight\n",
    "                k.append(i)\n",
    "                accuracies.append(accuracy)\n",
    "                fscores.append(fscore)\n",
    "                precisions.append(precision)\n",
    "                recalls.append(recall)\n",
    "                weights.append(weight)\n",
    "\n",
    "        # Compute weighted mean metrics over all k\n",
    "        weighted_accuracy = np.average(accuracies, weights=weights)\n",
    "        weighted_fscore = np.average(fscores, weights=weights)\n",
    "        weighted_precision = np.average(precisions, weights=weights)\n",
    "        weighted_recall = np.average(recalls, weights=weights)\n",
    "\n",
    "        # Append weighted mean metrics to the lists\n",
    "        k.append(max_case_length)\n",
    "        accuracies.append(weighted_accuracy)\n",
    "        fscores.append(weighted_fscore)\n",
    "        precisions.append(weighted_precision)\n",
    "        recalls.append(weighted_recall)\n",
    "\n",
    "        # Create a DataFrame to display the results\n",
    "        results_df = pd.DataFrame({\n",
    "            'k': k,\n",
    "            'accuracy': accuracies,\n",
    "            'fscore': fscores,\n",
    "            'precision': precisions,\n",
    "            'recall': recalls\n",
    "        })\n",
    "\n",
    "        # Display the results\n",
    "        print(results_df)"
   ]
  },
  {
   "cell_type": "code",
   "execution_count": 3,
   "metadata": {},
   "outputs": [
    {
     "name": "stdout",
     "output_type": "stream",
     "text": [
      "dataset_name: 'helpdesk'\n",
      "filepath: 'helpdesk.csv'\n",
      "columns: '['Case ID', 'Activity', 'Complete Timestamp']'\n",
      "additional_columns: '['Resource']'\n",
      "datetime_format: '%Y-%m-%d %H:%M:%S.%f'\n",
      "task: 'next_activity'\n",
      "Model learning rate: '0.001'\n",
      "Model Epochs: '10'\n",
      "Number of Transformer Layers in Model: '1'\n",
      "\n",
      "Preprocessed train-test split for task next_activity found. Preprocessing skipped.\n",
      "Loading data from preprocessed train-test split...\n",
      "Preparing data for task next_activity...\n",
      "Creating model for task next_activity...\n",
      "Epoch 1/10\n"
     ]
    },
    {
     "name": "stderr",
     "output_type": "stream",
     "text": [
      "c:\\Users\\vince\\anaconda3\\envs\\MasterThesis\\lib\\site-packages\\keras\\backend.py:5582: UserWarning: \"`sparse_categorical_crossentropy` received `from_logits=True`, but the `output` argument was produced by a Softmax activation and thus does not represent logits. Was this intended?\n",
      "  output, from_logits = _get_logits(\n"
     ]
    },
    {
     "name": "stdout",
     "output_type": "stream",
     "text": [
      "1121/1121 [==============================] - 44s 25ms/step - loss: 0.7940 - sparse_categorical_accuracy: 0.7443\n",
      "Epoch 2/10\n",
      "1121/1121 [==============================] - 30s 27ms/step - loss: 0.6455 - sparse_categorical_accuracy: 0.7950\n",
      "Epoch 3/10\n",
      "1121/1121 [==============================] - 33s 30ms/step - loss: 0.6297 - sparse_categorical_accuracy: 0.7961\n",
      "Epoch 4/10\n",
      "1121/1121 [==============================] - 30s 27ms/step - loss: 0.6223 - sparse_categorical_accuracy: 0.7967\n",
      "Epoch 5/10\n",
      "1121/1121 [==============================] - 29s 26ms/step - loss: 0.6216 - sparse_categorical_accuracy: 0.7968\n",
      "Epoch 6/10\n",
      "1121/1121 [==============================] - 32s 29ms/step - loss: 0.6171 - sparse_categorical_accuracy: 0.7984\n",
      "Epoch 7/10\n",
      "1121/1121 [==============================] - 28s 25ms/step - loss: 0.6154 - sparse_categorical_accuracy: 0.7975\n",
      "Epoch 8/10\n",
      "1121/1121 [==============================] - 31s 27ms/step - loss: 0.6132 - sparse_categorical_accuracy: 0.7987\n",
      "Epoch 9/10\n",
      "1121/1121 [==============================] - 40s 36ms/step - loss: 0.6111 - sparse_categorical_accuracy: 0.7997\n",
      "Epoch 10/10\n",
      "1121/1121 [==============================] - 46s 41ms/step - loss: 0.6082 - sparse_categorical_accuracy: 0.7990\n"
     ]
    },
    {
     "data": {
      "image/png": "[encoded data removed]",
      "text/plain": [
       "<Figure size 1000x600 with 1 Axes>"
      ]
     },
     "metadata": {},
     "output_type": "display_data"
    },
    {
     "ename": "TypeError",
     "evalue": "evaluate() takes 7 positional arguments but 8 were given",
     "output_type": "error",
     "traceback": [
      "\u001b[1;31m---------------------------------------------------------------------------\u001b[0m",
      "\u001b[1;31mTypeError\u001b[0m                                 Traceback (most recent call last)",
      "Cell \u001b[1;32mIn[3], line 44\u001b[0m\n\u001b[0;32m     32\u001b[0m model \u001b[38;5;241m=\u001b[39m pipeline\u001b[38;5;241m.\u001b[39mtrain(\n\u001b[0;32m     33\u001b[0m             num_categorical_features \u001b[38;5;241m=\u001b[39m num_categorical_features,\n\u001b[0;32m     34\u001b[0m             num_numerical_features \u001b[38;5;241m=\u001b[39m num_numerical_features,\n\u001b[1;32m   (...)\u001b[0m\n\u001b[0;32m     40\u001b[0m             num_output \u001b[38;5;241m=\u001b[39m num_output,\n\u001b[0;32m     41\u001b[0m             num_classes_list \u001b[38;5;241m=\u001b[39m num_classes_list)\n\u001b[0;32m     43\u001b[0m \u001b[38;5;66;03m# evaluate the model\u001b[39;00m\n\u001b[1;32m---> 44\u001b[0m \u001b[43mpipeline\u001b[49m\u001b[38;5;241;43m.\u001b[39;49m\u001b[43mevaluate\u001b[49m\u001b[43m(\u001b[49m\u001b[43mmodel\u001b[49m\u001b[43m,\u001b[49m\u001b[43m \u001b[49m\u001b[43mdata_loader\u001b[49m\u001b[43m,\u001b[49m\u001b[43m \u001b[49m\u001b[43mtrain_df\u001b[49m\u001b[43m,\u001b[49m\u001b[43m \u001b[49m\u001b[43mtest_df\u001b[49m\u001b[43m,\u001b[49m\u001b[43m \u001b[49m\u001b[43mmax_case_length\u001b[49m\u001b[43m,\u001b[49m\u001b[43m \u001b[49m\u001b[43mx_word_dict\u001b[49m\u001b[43m,\u001b[49m\u001b[43m \u001b[49m\u001b[43my_word_dict\u001b[49m\u001b[43m)\u001b[49m\n",
      "\u001b[1;31mTypeError\u001b[0m: evaluate() takes 7 positional arguments but 8 were given"
     ]
    }
   ],
   "source": [
    "### Execution ###\n",
    "\n",
    "# initialize pipeline with parameters\n",
    "pipeline = next_activity_pipeline(\n",
    "    dataset_name = \"helpdesk\",\n",
    "    filepath = \"helpdesk.csv\",\n",
    "    columns = [\"Case ID\", \"Activity\", \"Complete Timestamp\"],\n",
    "    additional_columns = [\"Resource\"],\n",
    "    datetime_format = \"%Y-%m-%d %H:%M:%S.%f\",\n",
    "    task = constants.Task.NEXT_ACTIVITY,\n",
    "    model_learning_rate = 0.001,\n",
    "    model_epochs = 10,\n",
    "    model_num_layers = 1)\n",
    "\n",
    "# print parameters\n",
    "print(pipeline)\n",
    "\n",
    "# preprocess data\n",
    "num_classes_list = pipeline.preprocess_log()\n",
    "\n",
    "# load data\n",
    "data_loader, train_df, test_df, x_word_dict, y_word_dict, max_case_length, vocab_size, num_output = pipeline.load_data()\n",
    "\n",
    "# prepare data\n",
    "(train_token_x,\n",
    " train_token_y,\n",
    " train_additional_features,\n",
    " num_categorical_features,\n",
    " num_numerical_features ) = pipeline.prepare_data(data_loader, train_df, x_word_dict, y_word_dict, max_case_length, test_df)\n",
    "\n",
    "# train the model\n",
    "model = pipeline.train(\n",
    "            num_categorical_features = num_categorical_features,\n",
    "            num_numerical_features = num_numerical_features,\n",
    "            train_additional_features = train_additional_features,\n",
    "            train_token_x = train_token_x,\n",
    "            train_token_y = train_token_y,\n",
    "            max_case_length = max_case_length,\n",
    "            vocab_size = vocab_size,\n",
    "            num_output = num_output,\n",
    "            num_classes_list = num_classes_list)\n",
    "\n",
    "# evaluate the model\n",
    "pipeline.evaluate(model, data_loader, train_df, test_df, max_case_length, x_word_dict, y_word_dict)\n"
   ]
  },
  {
   "cell_type": "markdown",
   "metadata": {},
   "source": [
    "## Preprocessing and Loading"
   ]
  },
  {
   "cell_type": "markdown",
   "metadata": {},
   "source": [
    "### Helpdesk"
   ]
  },
  {
   "cell_type": "code",
   "execution_count": null,
   "metadata": {},
   "outputs": [],
   "source": [
    "# Process and load data for the next activity task\n",
    "dataset_name = \"helpdesk\"\n",
    "data_loader, train_df, test_df, x_word_dict, y_word_dict, max_case_length, vocab_size, num_output, num_classes_list = process_and_load_data(\n",
    "    dataset_name = dataset_name,\n",
    "    filepath = \"helpdesk.csv\",\n",
    "    columns = [\"Case ID\", \"Activity\", \"Complete Timestamp\"],\n",
    "    additional_columns = [\"Resource\"],\n",
    "    datetime_format = \"%Y-%m-%d %H:%M:%S.%f\",\n",
    "    task = constants.Task.NEXT_ACTIVITY)"
   ]
  },
  {
   "cell_type": "markdown",
   "metadata": {},
   "source": [
    "### Sepsis"
   ]
  },
  {
   "cell_type": "code",
   "execution_count": null,
   "metadata": {},
   "outputs": [],
   "source": [
    "# Dataset processing\n",
    "dataset_name = \"sepsis\"\n",
    "data_processor = LogsDataProcessor(\n",
    "    name=dataset_name,\n",
    "    filepath=\"sepsis.xes\",\n",
    "    columns=[\"case:concept:name\", \"concept:name\", \"time:timestamp\"],  # specify the columns name containing case_id, activity name and timestamp\n",
    "    additional_columns=[\"org:group\"],\n",
    "    datetime_format=\"%Y-%m-%d %H:%M:%S%z\",\n",
    "    pool=4\n",
    ")\n",
    "data_processor.process_logs(task=constants.Task.NEXT_ACTIVITY, sort_temporally=False)\n",
    "\n",
    "# Garbage collection\n",
    "del data_processor"
   ]
  },
  {
   "cell_type": "markdown",
   "metadata": {},
   "source": [
    "## Data Preparation for Training"
   ]
  },
  {
   "cell_type": "code",
   "execution_count": null,
   "metadata": {},
   "outputs": [],
   "source": [
    "# Prepare training examples for next activity prediction task\n",
    "train_token_x, train_token_y, train_additional_features, num_categorical_features, num_numerical_features = data_loader.prepare_data_next_activity(\n",
    "    train_df, x_word_dict, y_word_dict, max_case_length, full_df=pd.concat([train_df, test_df])\n",
    ")\n",
    "\n",
    "# Garbage collection\n",
    "del data_loader"
   ]
  },
  {
   "cell_type": "markdown",
   "metadata": {},
   "source": [
    "## Model Training"
   ]
  },
  {
   "cell_type": "code",
   "execution_count": null,
   "metadata": {},
   "outputs": [],
   "source": [
    "# Model parameters\n",
    "learning_rate = 0.001\n",
    "batch_size = 12\n",
    "epochs = 3\n",
    "\n",
    "# Define and compile the model\n",
    "model = transformer.get_next_activity_model(\n",
    "    max_case_length=max_case_length,\n",
    "    vocab_size=vocab_size,\n",
    "    output_dim=num_output,\n",
    "    num_categorical_features=num_categorical_features,\n",
    "    num_numerical_features=num_numerical_features,\n",
    "    num_classes_list=num_classes_list,  # Pass the computed number of classes list\n",
    "    num_layers=1\n",
    ")\n",
    "model.compile(\n",
    "    optimizer=tf.keras.optimizers.Adam(learning_rate),\n",
    "    loss=tf.keras.losses.SparseCategoricalCrossentropy(from_logits=True),\n",
    "    metrics=[tf.keras.metrics.SparseCategoricalAccuracy()]\n",
    ")\n",
    "\n",
    "# Train the model\n",
    "if train_additional_features.shape[1] == 0:\n",
    "    model.fit([train_token_x], train_token_y, epochs=epochs, batch_size=batch_size)\n",
    "else:\n",
    "    model.fit([train_token_x, train_additional_features], train_token_y, epochs=epochs, batch_size=batch_size)"
   ]
  },
  {
   "cell_type": "markdown",
   "metadata": {},
   "source": [
    "## Evaluation"
   ]
  },
  {
   "cell_type": "code",
   "execution_count": 4,
   "metadata": {},
   "outputs": [
    {
     "name": "stdout",
     "output_type": "stream",
     "text": [
      "Preparing data for task next_activity...\n",
      "29/29 [==============================] - 2s 14ms/step\n",
      "Preparing data for task next_activity...\n"
     ]
    },
    {
     "name": "stderr",
     "output_type": "stream",
     "text": [
      "c:\\Users\\vince\\anaconda3\\envs\\MasterThesis\\lib\\site-packages\\sklearn\\metrics\\_classification.py:1509: UndefinedMetricWarning: Precision is ill-defined and being set to 0.0 in labels with no predicted samples. Use `zero_division` parameter to control this behavior.\n",
      "  _warn_prf(average, modifier, f\"{metric.capitalize()} is\", len(result))\n"
     ]
    },
    {
     "name": "stdout",
     "output_type": "stream",
     "text": [
      "29/29 [==============================] - 0s 13ms/step\n",
      "Preparing data for task next_activity...\n"
     ]
    },
    {
     "name": "stderr",
     "output_type": "stream",
     "text": [
      "c:\\Users\\vince\\anaconda3\\envs\\MasterThesis\\lib\\site-packages\\sklearn\\metrics\\_classification.py:1509: UndefinedMetricWarning: Precision is ill-defined and being set to 0.0 in labels with no predicted samples. Use `zero_division` parameter to control this behavior.\n",
      "  _warn_prf(average, modifier, f\"{metric.capitalize()} is\", len(result))\n"
     ]
    },
    {
     "name": "stdout",
     "output_type": "stream",
     "text": [
      "28/28 [==============================] - 0s 13ms/step\n",
      "Preparing data for task next_activity...\n"
     ]
    },
    {
     "name": "stderr",
     "output_type": "stream",
     "text": [
      "c:\\Users\\vince\\anaconda3\\envs\\MasterThesis\\lib\\site-packages\\sklearn\\metrics\\_classification.py:1509: UndefinedMetricWarning: Precision is ill-defined and being set to 0.0 in labels with no predicted samples. Use `zero_division` parameter to control this behavior.\n",
      "  _warn_prf(average, modifier, f\"{metric.capitalize()} is\", len(result))\n"
     ]
    },
    {
     "name": "stdout",
     "output_type": "stream",
     "text": [
      "12/12 [==============================] - 0s 13ms/step\n",
      "Preparing data for task next_activity...\n"
     ]
    },
    {
     "name": "stderr",
     "output_type": "stream",
     "text": [
      "c:\\Users\\vince\\anaconda3\\envs\\MasterThesis\\lib\\site-packages\\sklearn\\metrics\\_classification.py:1509: UndefinedMetricWarning: Precision is ill-defined and being set to 0.0 in labels with no predicted samples. Use `zero_division` parameter to control this behavior.\n",
      "  _warn_prf(average, modifier, f\"{metric.capitalize()} is\", len(result))\n",
      "c:\\Users\\vince\\anaconda3\\envs\\MasterThesis\\lib\\site-packages\\sklearn\\metrics\\_classification.py:1509: UndefinedMetricWarning: Recall is ill-defined and being set to 0.0 in labels with no true samples. Use `zero_division` parameter to control this behavior.\n",
      "  _warn_prf(average, modifier, f\"{metric.capitalize()} is\", len(result))\n"
     ]
    },
    {
     "name": "stdout",
     "output_type": "stream",
     "text": [
      "5/5 [==============================] - 0s 13ms/step\n",
      "Preparing data for task next_activity...\n"
     ]
    },
    {
     "name": "stderr",
     "output_type": "stream",
     "text": [
      "c:\\Users\\vince\\anaconda3\\envs\\MasterThesis\\lib\\site-packages\\sklearn\\metrics\\_classification.py:1509: UndefinedMetricWarning: Precision is ill-defined and being set to 0.0 in labels with no predicted samples. Use `zero_division` parameter to control this behavior.\n",
      "  _warn_prf(average, modifier, f\"{metric.capitalize()} is\", len(result))\n",
      "c:\\Users\\vince\\anaconda3\\envs\\MasterThesis\\lib\\site-packages\\sklearn\\metrics\\_classification.py:1509: UndefinedMetricWarning: Recall is ill-defined and being set to 0.0 in labels with no true samples. Use `zero_division` parameter to control this behavior.\n",
      "  _warn_prf(average, modifier, f\"{metric.capitalize()} is\", len(result))\n"
     ]
    },
    {
     "name": "stdout",
     "output_type": "stream",
     "text": [
      "3/3 [==============================] - 0s 14ms/step\n",
      "Preparing data for task next_activity...\n"
     ]
    },
    {
     "name": "stderr",
     "output_type": "stream",
     "text": [
      "c:\\Users\\vince\\anaconda3\\envs\\MasterThesis\\lib\\site-packages\\sklearn\\metrics\\_classification.py:1509: UndefinedMetricWarning: Precision is ill-defined and being set to 0.0 in labels with no predicted samples. Use `zero_division` parameter to control this behavior.\n",
      "  _warn_prf(average, modifier, f\"{metric.capitalize()} is\", len(result))\n"
     ]
    },
    {
     "name": "stdout",
     "output_type": "stream",
     "text": [
      "2/2 [==============================] - 0s 16ms/step\n",
      "Preparing data for task next_activity...\n"
     ]
    },
    {
     "name": "stderr",
     "output_type": "stream",
     "text": [
      "c:\\Users\\vince\\anaconda3\\envs\\MasterThesis\\lib\\site-packages\\sklearn\\metrics\\_classification.py:1509: UndefinedMetricWarning: Precision is ill-defined and being set to 0.0 in labels with no predicted samples. Use `zero_division` parameter to control this behavior.\n",
      "  _warn_prf(average, modifier, f\"{metric.capitalize()} is\", len(result))\n"
     ]
    },
    {
     "name": "stdout",
     "output_type": "stream",
     "text": [
      "1/1 [==============================] - 0s 109ms/step\n",
      "Preparing data for task next_activity...\n"
     ]
    },
    {
     "name": "stderr",
     "output_type": "stream",
     "text": [
      "c:\\Users\\vince\\anaconda3\\envs\\MasterThesis\\lib\\site-packages\\sklearn\\metrics\\_classification.py:1509: UndefinedMetricWarning: Precision is ill-defined and being set to 0.0 in labels with no predicted samples. Use `zero_division` parameter to control this behavior.\n",
      "  _warn_prf(average, modifier, f\"{metric.capitalize()} is\", len(result))\n"
     ]
    },
    {
     "name": "stdout",
     "output_type": "stream",
     "text": [
      "1/1 [==============================] - 0s 90ms/step\n",
      "Preparing data for task next_activity...\n"
     ]
    },
    {
     "name": "stderr",
     "output_type": "stream",
     "text": [
      "c:\\Users\\vince\\anaconda3\\envs\\MasterThesis\\lib\\site-packages\\sklearn\\metrics\\_classification.py:1509: UndefinedMetricWarning: Precision is ill-defined and being set to 0.0 in labels with no predicted samples. Use `zero_division` parameter to control this behavior.\n",
      "  _warn_prf(average, modifier, f\"{metric.capitalize()} is\", len(result))\n"
     ]
    },
    {
     "name": "stdout",
     "output_type": "stream",
     "text": [
      "1/1 [==============================] - 0s 93ms/step\n",
      "Preparing data for task next_activity...\n"
     ]
    },
    {
     "name": "stderr",
     "output_type": "stream",
     "text": [
      "c:\\Users\\vince\\anaconda3\\envs\\MasterThesis\\lib\\site-packages\\sklearn\\metrics\\_classification.py:1509: UndefinedMetricWarning: Precision is ill-defined and being set to 0.0 in labels with no predicted samples. Use `zero_division` parameter to control this behavior.\n",
      "  _warn_prf(average, modifier, f\"{metric.capitalize()} is\", len(result))\n"
     ]
    },
    {
     "name": "stdout",
     "output_type": "stream",
     "text": [
      "1/1 [==============================] - 0s 100ms/step\n",
      "Preparing data for task next_activity...\n",
      "1/1 [==============================] - 0s 109ms/step\n",
      "     k  accuracy    fscore  precision    recall\n",
      "0    0  0.839520  0.793352   0.825832  0.839520\n",
      "1    1  0.725983  0.633450   0.564732  0.725983\n",
      "2    2  0.832370  0.787967   0.801014  0.832370\n",
      "3    3  0.826331  0.787785   0.760030  0.826331\n",
      "4    4  0.780142  0.727386   0.751782  0.780142\n",
      "5    5  0.855072  0.812006   0.777416  0.855072\n",
      "6    6  0.727273  0.644585   0.587615  0.727273\n",
      "7    7  0.692308  0.573427   0.496337  0.692308\n",
      "8    8  0.571429  0.485714   0.464286  0.571429\n",
      "9    9  0.750000  0.650000   0.583333  0.750000\n",
      "10  10  1.000000  1.000000   1.000000  1.000000\n",
      "11  11  1.000000  1.000000   1.000000  1.000000\n",
      "12  14  0.800602  0.741984   0.731740  0.800602\n"
     ]
    }
   ],
   "source": [
    "# Prepare lists to store evaluation metrics\n",
    "k, accuracies, fscores, precisions, recalls, weights = [], [], [], [], [], []\n",
    "\n",
    "# Calculate total number of samples\n",
    "total_samples = len(test_df)\n",
    "\n",
    "# Iterate over all prefixes (k)\n",
    "for i in range(max_case_length):\n",
    "    test_data_subset = test_df[test_df[\"k\"] == i]\n",
    "    if len(test_data_subset) > 0:\n",
    "        # Calculate weight for this prefix\n",
    "        weight = len(test_data_subset) / total_samples\n",
    "        \n",
    "        # Prepare the test data\n",
    "        test_token_x, test_token_y, test_additional_features, _, _ = data_loader.prepare_data_next_activity(\n",
    "            test_data_subset, x_word_dict, y_word_dict, max_case_length, full_df=pd.concat([train_df, test_df])\n",
    "        )\n",
    "        \n",
    "        # Make predictions\n",
    "        if test_additional_features.shape[1] != 0:\n",
    "            y_pred = np.argmax(model.predict([test_token_x, test_additional_features]), axis=1)\n",
    "        else:\n",
    "            y_pred = np.argmax(model.predict([test_token_x]), axis=1)\n",
    "        \n",
    "        # Compute metrics\n",
    "        accuracy = metrics.accuracy_score(test_token_y, y_pred)\n",
    "        precision, recall, fscore, _ = metrics.precision_recall_fscore_support(test_token_y, y_pred, average=\"weighted\")\n",
    "        \n",
    "        # Store metrics and weight\n",
    "        k.append(i)\n",
    "        accuracies.append(accuracy)\n",
    "        fscores.append(fscore)\n",
    "        precisions.append(precision)\n",
    "        recalls.append(recall)\n",
    "        weights.append(weight)\n",
    "\n",
    "# Compute weighted mean metrics over all k\n",
    "weighted_accuracy = np.average(accuracies, weights=weights)\n",
    "weighted_fscore = np.average(fscores, weights=weights)\n",
    "weighted_precision = np.average(precisions, weights=weights)\n",
    "weighted_recall = np.average(recalls, weights=weights)\n",
    "\n",
    "# Append weighted mean metrics to the lists\n",
    "k.append(max_case_length)\n",
    "accuracies.append(weighted_accuracy)\n",
    "fscores.append(weighted_fscore)\n",
    "precisions.append(weighted_precision)\n",
    "recalls.append(weighted_recall)\n",
    "\n",
    "# Create a DataFrame to display the results\n",
    "results_df = pd.DataFrame({\n",
    "    'k': k,\n",
    "    'accuracy': accuracies,\n",
    "    'fscore': fscores,\n",
    "    'precision': precisions,\n",
    "    'recall': recalls\n",
    "})\n",
    "\n",
    "# Display the results\n",
    "print(results_df)"
   ]
  },
  {
   "cell_type": "code",
   "execution_count": null,
   "metadata": {},
   "outputs": [],
   "source": [
    "print('Average accuracy across all prefixes:', np.mean(accuracies))\n",
    "print('Average f-score across all prefixes:', np.mean(fscores))\n",
    "print('Average precision across all prefixes:', np.mean(precisions))\n",
    "print('Average recall across all prefixes:', np.mean(recalls))"
   ]
  },
  {
   "cell_type": "markdown",
   "metadata": {},
   "source": [
    "# Task: Next Time  -- Ignored for now"
   ]
  },
  {
   "cell_type": "markdown",
   "metadata": {},
   "source": [
    "## Preprocessing and Loading"
   ]
  },
  {
   "cell_type": "markdown",
   "metadata": {},
   "source": [
    "### Helpdesk"
   ]
  },
  {
   "cell_type": "code",
   "execution_count": null,
   "metadata": {},
   "outputs": [],
   "source": [
    "# Process and load data for the next activity task\n",
    "dataset_name = \"helpdesk\"\n",
    "data_loader, train_df, test_df, x_word_dict, y_word_dict, max_case_length, vocab_size, num_output, num_classes_list = process_and_load_data(\n",
    "    dataset_name = dataset_name,\n",
    "    filepath = \"helpdesk.csv\",\n",
    "    columns = [\"Case ID\", \"Activity\", \"Complete Timestamp\"],\n",
    "    additional_columns = [\"Resource\", \"product\"],\n",
    "    datetime_format = \"%Y-%m-%d %H:%M:%S.%f\",\n",
    "    task = constants.Task.NEXT_TIME)"
   ]
  },
  {
   "cell_type": "markdown",
   "metadata": {},
   "source": [
    "### Sepsis"
   ]
  },
  {
   "cell_type": "code",
   "execution_count": null,
   "metadata": {},
   "outputs": [],
   "source": []
  },
  {
   "cell_type": "markdown",
   "metadata": {},
   "source": [
    "## Data Preparation for Training"
   ]
  },
  {
   "cell_type": "code",
   "execution_count": null,
   "metadata": {},
   "outputs": [],
   "source": [
    "# Prepare training examples for next time prediction task\n",
    "train_token_x, train_time_x, train_token_y, train_additional_features, time_scaler, y_scaler, num_categorical_features, num_numerical_features = data_loader.prepare_data_next_time(\n",
    "    train_df, x_word_dict, max_case_length, shuffle=True)\n",
    "\n",
    "# Garbage collection\n",
    "del data_loader"
   ]
  },
  {
   "cell_type": "markdown",
   "metadata": {},
   "source": [
    "# Task: Remaining Time -- Ignored for now"
   ]
  },
  {
   "cell_type": "markdown",
   "metadata": {},
   "source": [
    "## Preprocessing and Loading"
   ]
  },
  {
   "cell_type": "markdown",
   "metadata": {},
   "source": [
    "### Helpdesk"
   ]
  },
  {
   "cell_type": "code",
   "execution_count": null,
   "metadata": {},
   "outputs": [],
   "source": []
  },
  {
   "cell_type": "markdown",
   "metadata": {},
   "source": [
    "### Sepsis"
   ]
  },
  {
   "cell_type": "code",
   "execution_count": null,
   "metadata": {},
   "outputs": [],
   "source": [
    "# Process and load data for the next time task\n",
    "dataset_name = \"sepsis\"\n",
    "data_loader, train_df, test_df, x_word_dict, y_word_dict, max_case_length, vocab_size, num_output, num_classes_list = process_and_load_data(\n",
    "    dataset_name, \"sepsis.xes\", [\"case:concept:name\", \"concept:name\", \"time:timestamp\"], [\"org:group\"], \"%Y-%m-%d %H:%M:%S%z\", constants.Task.NEXT_TIME)"
   ]
  },
  {
   "cell_type": "markdown",
   "metadata": {},
   "source": [
    "## Data Preparation for Training"
   ]
  },
  {
   "cell_type": "code",
   "execution_count": null,
   "metadata": {},
   "outputs": [],
   "source": []
  }
 ],
 "metadata": {
  "kernelspec": {
   "display_name": "base",
   "language": "python",
   "name": "python3"
  },
  "language_info": {
   "codemirror_mode": {
    "name": "ipython",
    "version": 3
   },
   "file_extension": ".py",
   "mimetype": "text/x-python",
   "name": "python",
   "nbconvert_exporter": "python",
   "pygments_lexer": "ipython3",
   "version": "3.9.19"
  },
  "orig_nbformat": 4
 },
 "nbformat": 4,
 "nbformat_minor": 2
}
