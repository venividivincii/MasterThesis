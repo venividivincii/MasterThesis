{
 "cells": [
  {
   "cell_type": "code",
   "execution_count": 1,
   "metadata": {},
   "outputs": [],
   "source": [
    "import os\n",
    "import re\n",
    "import numpy as np\n",
    "import pandas as pd\n",
    "import tensorflow as tf\n",
    "from sklearn import metrics\n",
    "from typing import List, Optional\n",
    "import matplotlib.pyplot as plt\n",
    "from typing import Dict, Tuple\n",
    "\n",
    "from package.processtransformer import constants\n",
    "from package.processtransformer.models import transformer\n",
    "from package.processtransformer.data.loader import LogsDataLoader\n",
    "from package.processtransformer.data.processor import LogsDataProcessor\n",
    "from package.processtransformer.constants import Task\n",
    "\n",
    "\n",
    "# Initialize data dir, if not exists\n",
    "if not os.path.exists(\"datasets\"): \n",
    "    os.mkdir(\"datasets\")"
   ]
  },
  {
   "cell_type": "markdown",
   "metadata": {},
   "source": [
    "# Task: Next Activity"
   ]
  },
  {
   "cell_type": "code",
   "execution_count": 2,
   "metadata": {},
   "outputs": [],
   "source": [
    "class next_categorical_pipeline:\n",
    "    \n",
    "    def __init__(self, dataset_name: str, filepath: str, columns: List[str], additional_columns: Optional[List[str]],\n",
    "                 datetime_format: str, task: Task, model_learning_rate: float, model_epochs: int, model_num_layers: int,\n",
    "                 target_column: str = \"concept:name\"):\n",
    "        self.dataset_name: str = dataset_name\n",
    "        self.filepath: str = filepath\n",
    "        self.columns: List[str] = columns\n",
    "        self.additional_columns: Optional[List[str]] = additional_columns\n",
    "        self.datetime_format: str = datetime_format\n",
    "        self.task: Task = task\n",
    "        self.model_learning_rate: float = model_learning_rate\n",
    "        self.model_epochs: int = model_epochs\n",
    "        self.model_num_layers: int = model_num_layers\n",
    "        if target_column == columns[1]:\n",
    "            self.target_column: str = \"concept:name\"\n",
    "        else:\n",
    "            self.target_column: str = target_column\n",
    "        \n",
    "        self._preprocessing_id: str = self.__build_preprocessing_id(dataset_name, task, additional_columns, target_column)\n",
    "        self._model_id: str = (\n",
    "            f\"{dataset_name}\"\n",
    "            f\"##{'#'.join(self.columns)}\"\n",
    "            f\"##{'#'.join(self.additional_columns)}\"\n",
    "            f\"##{'#'.join(self.task.value)}\"\n",
    "            f\"##{self.model_learning_rate}\"\n",
    "            f\"##{self.model_epochs}\"\n",
    "            f\"##{self.model_num_layers}\")\n",
    "    \n",
    "    \n",
    "    # sanitaze the filename and build the preprocessing_id\n",
    "    def __build_preprocessing_id(self, dataset_name, task, additional_columns, target_column):\n",
    "        # regex pattern with characters not allowed in file names\n",
    "        invalid_chars_pattern = r'[\\/:*?\"<>|]'\n",
    "        \n",
    "        # sanitaze dataset_name\n",
    "        dataset_name = re.sub(invalid_chars_pattern, '_', dataset_name)\n",
    "        \n",
    "        # sanitaze additional_columns\n",
    "        for idx, column in enumerate(additional_columns):\n",
    "            additional_columns[idx] = re.sub(invalid_chars_pattern, '_', column)\n",
    "            \n",
    "        # sanitaze target_column\n",
    "        target_column = re.sub(invalid_chars_pattern, '_', target_column)\n",
    "        \n",
    "        # build the preprocessing_id\n",
    "        preprocessing_id = f\"{dataset_name}##{task.value}##{self.columns[1]}#{'#'.join(additional_columns) if additional_columns else 'No_Additional_Columns'}##\"\n",
    "        \n",
    "        return preprocessing_id\n",
    "        \n",
    "        \n",
    "    def __str__(self):\n",
    "        return (\n",
    "            f\"dataset_name: '{self.dataset_name}'\\n\"\n",
    "            f\"filepath: '{self.filepath}'\\n\"\n",
    "            f\"columns: '{self.columns}'\\n\"\n",
    "            f\"additional_columns: '{self.additional_columns}'\\n\"\n",
    "            f\"datetime_format: '{self.datetime_format}'\\n\"\n",
    "            f\"task: '{self.task.value}'\\n\"\n",
    "            f\"Model learning rate: '{self.model_learning_rate}'\\n\"\n",
    "            f\"Model Epochs: '{self.model_epochs}'\\n\"\n",
    "            f\"Number of Transformer Layers in Model: '{self.model_num_layers}'\\n\"\n",
    "            f\"Target column: '{self.target_column}'\\n\")\n",
    "        \n",
    "    \n",
    "    # preprocess the event log and save the train-test split as csv files\n",
    "    def preprocess_log(self) -> List[int]:\n",
    "        data_processor = LogsDataProcessor(\n",
    "            name=self.dataset_name,\n",
    "            filepath=self.filepath,\n",
    "            preprocessing_id = self._preprocessing_id,\n",
    "            columns=self.columns,\n",
    "            additional_columns=self.additional_columns,  # Add all additional columns here, first all categorical, then all numerical features\n",
    "            datetime_format=self.datetime_format,\n",
    "            pool=4,\n",
    "            target_column=self.target_column\n",
    "        )\n",
    "        # Preprocess the event log and make train-test split\n",
    "        data_processor.process_logs(task=self.task, sort_temporally=False)\n",
    "        \n",
    "        # Compute the number of unique classes in each categorical column\n",
    "        train_df = pd.read_csv(os.path.join(\"datasets\", self.dataset_name, \"processed\", f\"{self._preprocessing_id}_train.csv\"))\n",
    "        num_classes_list = data_processor._compute_num_classes(train_df)\n",
    "        \n",
    "        return num_classes_list\n",
    "    \n",
    "    \n",
    "    # load the preprocessed train-test split from the csv files\n",
    "    def load_data(self) -> Tuple [ LogsDataLoader, pd.DataFrame, pd.DataFrame, Dict[str, int], Dict[str, int], int, int, int ]:\n",
    "        data_loader = LogsDataLoader(name=self.dataset_name, preprocessing_id=self._preprocessing_id)\n",
    "        train_df, test_df, x_word_dict, y_word_dict, max_case_length, vocab_size_dict, categorical_features, numerical_features = data_loader.load_data(self.task)\n",
    "        num_output = len(y_word_dict[self.target_column])\n",
    "        return data_loader, train_df, test_df, x_word_dict, y_word_dict, max_case_length, vocab_size_dict, num_output, categorical_features, numerical_features\n",
    "    \n",
    "    \n",
    "    def prepare_data(self, data_loader, df):\n",
    "        print(\"Preparing data for task next_categorical...\")\n",
    "        # Prepare training examples for next categorical prediction task\n",
    "        # train_token_x, train_token_y, train_additional_features, num_categorical_features, num_numerical_features = data_loader.prepare_data_next_categorical(\n",
    "        #     train_df, x_word_dict, y_word_dict, max_case_length, full_df=pd.concat([train_df, test_df])\n",
    "        # )\n",
    "        token_dict_x, token_dict_y = data_loader.prepare_data(df)\n",
    "        return token_dict_x, token_dict_y\n",
    "    \n",
    "    \n",
    "    # Prepare data and train the model\n",
    "    def train(self,\n",
    "            categorical_features,\n",
    "            numerical_features,\n",
    "            train_token_dict_x,\n",
    "            train_token_dict_y,\n",
    "            max_case_length: int,\n",
    "            vocab_size_dict: Dict[str, int],\n",
    "            num_output: int,\n",
    "            num_classes_list: List[int]\n",
    "            ) -> tf.keras.Model:\n",
    "        \n",
    "        batch_size = 12\n",
    "    \n",
    "        # Define and compile the model\n",
    "        model = transformer.get_next_categorical_model(\n",
    "            max_case_length=max_case_length,\n",
    "            vocab_size_dict=vocab_size_dict,\n",
    "            output_dim=num_output,\n",
    "            categorical_features=categorical_features,\n",
    "            numerical_features=numerical_features,\n",
    "            num_classes_list=num_classes_list,  # Pass the computed number of classes list\n",
    "            num_layers=self.model_num_layers\n",
    "        )\n",
    "        model.compile(\n",
    "            optimizer=tf.keras.optimizers.Adam(self.model_learning_rate),\n",
    "            loss=tf.keras.losses.SparseCategoricalCrossentropy(from_logits=False),\n",
    "            metrics=[tf.keras.metrics.SparseCategoricalAccuracy()]\n",
    "        )\n",
    "\n",
    "        # Train the model\n",
    "        history = model.fit(train_token_dict_x, train_token_dict_y[self.target_column], epochs=self.model_epochs, batch_size=batch_size)\n",
    "            \n",
    "        # Plot training loss\n",
    "        self._plot_training_loss(history)\n",
    "        return model\n",
    "            \n",
    "            \n",
    "    # helper function for plotting the training loss\n",
    "    def _plot_training_loss(self, history):\n",
    "        plt.figure(figsize=(10, 6))\n",
    "        plt.plot(history.history['loss'], label='Training Loss')\n",
    "        if 'val_loss' in history.history:\n",
    "            plt.plot(history.history['val_loss'], label='Validation Loss')\n",
    "        plt.xlabel('Epoch')\n",
    "        plt.ylabel('Loss')\n",
    "        plt.title('Training Loss Over Epochs')\n",
    "        plt.legend()\n",
    "        plt.grid(True)\n",
    "        plt.show()\n",
    "        \n",
    "    def evaluate(self, model, data_loader, train_df, test_df, max_case_length, x_word_dict, y_word_dict):\n",
    "        print(\"Evaluating...\")\n",
    "        \n",
    "        # Prepare lists to store evaluation metrics\n",
    "        k, accuracies, fscores, precisions, recalls, weights = [], [], [], [], [], []\n",
    "\n",
    "        # Calculate total number of samples\n",
    "        total_samples = len(test_df)\n",
    "\n",
    "        # Iterate over all prefixes (k)\n",
    "        for i in range(1, max_case_length+1):\n",
    "            print( \"Prefix length: \" + str(i) )\n",
    "            test_data_subset = test_df[test_df[\"concept:name_prefix-length\"] == i]\n",
    "            if len(test_data_subset) > 0:\n",
    "                # Calculate weight for this prefix\n",
    "                weight = len(test_data_subset) / total_samples\n",
    "                \n",
    "                # Prepare the test data\n",
    "                # test_token_x, test_token_y, test_additional_features, _, _ = data_loader.prepare_data_next_categorical(\n",
    "                #     test_data_subset, x_word_dict, y_word_dict, max_case_length, full_df=pd.concat([train_df, test_df])\n",
    "                # )\n",
    "                x_token_dict, y_token_dict = data_loader.prepare_data(test_data_subset)\n",
    "                \n",
    "                # Make predictions\n",
    "                y_pred = np.argmax(model.predict(x_token_dict), axis=1)\n",
    "                # y_pred = np.argmax(model.predict([test_token_x]), axis=1)\n",
    "                \n",
    "                # Compute metrics\n",
    "                accuracy = metrics.accuracy_score(y_token_dict[self.target_column], y_pred)\n",
    "                precision, recall, fscore, _ = metrics.precision_recall_fscore_support(y_token_dict[self.target_column], y_pred, average=\"weighted\", zero_division=0)\n",
    "                \n",
    "                # Store metrics and weight\n",
    "                k.append(i)\n",
    "                accuracies.append(accuracy)\n",
    "                fscores.append(fscore)\n",
    "                precisions.append(precision)\n",
    "                recalls.append(recall)\n",
    "                weights.append(weight)\n",
    "\n",
    "        # Compute weighted mean metrics over all k\n",
    "        weighted_accuracy = np.average(accuracies, weights=weights)\n",
    "        weighted_fscore = np.average(fscores, weights=weights)\n",
    "        weighted_precision = np.average(precisions, weights=weights)\n",
    "        weighted_recall = np.average(recalls, weights=weights)\n",
    "\n",
    "        # Append weighted mean metrics to the lists\n",
    "        weights.append(\"\")\n",
    "        k.append(\"Weighted Mean\")\n",
    "        accuracies.append(weighted_accuracy)\n",
    "        fscores.append(weighted_fscore)\n",
    "        precisions.append(weighted_precision)\n",
    "        recalls.append(weighted_recall)\n",
    "\n",
    "        # Create a DataFrame to display the results\n",
    "        results_df = pd.DataFrame({\n",
    "            'k': k,\n",
    "            'weight': weights,\n",
    "            'accuracy': accuracies,\n",
    "            'fscore': fscores,\n",
    "            'precision': precisions,\n",
    "            'recall': recalls\n",
    "        })\n",
    "\n",
    "        # Display the results\n",
    "        print(results_df)"
   ]
  },
  {
   "cell_type": "code",
   "execution_count": 3,
   "metadata": {},
   "outputs": [],
   "source": [
    "### Helper Functions ###\n",
    "\n",
    "# helper function: do only preprocessing on data\n",
    "def preprocess(additional_columns, target_column):\n",
    "    # initialize pipeline with parameters\n",
    "    pipeline = next_categorical_pipeline(\n",
    "        dataset_name = \"helpdesk\",\n",
    "        filepath = \"helpdesk.csv\",\n",
    "        columns = [\"Case ID\", \"Activity\", \"Complete Timestamp\"],\n",
    "        additional_columns = additional_columns,\n",
    "        datetime_format = \"%Y-%m-%d %H:%M:%S.%f\",\n",
    "        task = constants.Task.NEXT_CATEGORICAL,\n",
    "        model_learning_rate = 0.001,\n",
    "        model_epochs = 1,\n",
    "        model_num_layers = 1,\n",
    "        target_column=target_column)  # Examples: \"concept:name\", \"Resource\"\n",
    "    # preprocess data\n",
    "    pipeline.preprocess_log()\n",
    "\n",
    "\n",
    "# helper function\n",
    "def run(additional_columns, target_column):\n",
    "    print(\"target_column: \" + target_column)\n",
    "\n",
    "    # initialize pipeline with parameters\n",
    "    pipeline = next_categorical_pipeline(\n",
    "        dataset_name = \"helpdesk\",\n",
    "        filepath = \"helpdesk.csv\",\n",
    "        columns = [\"Case ID\", \"Activity\", \"Complete Timestamp\"],\n",
    "        additional_columns = additional_columns,\n",
    "        datetime_format = \"%Y-%m-%d %H:%M:%S.%f\",\n",
    "        task = constants.Task.NEXT_CATEGORICAL,\n",
    "        model_learning_rate = 0.001,\n",
    "        model_epochs = 10,\n",
    "        model_num_layers = 1,\n",
    "        target_column=target_column)  # Examples: \"concept:name\", \"Resource\"\n",
    "\n",
    "    # print parameters\n",
    "    print(pipeline)\n",
    "\n",
    "    # preprocess data\n",
    "    num_classes_list = pipeline.preprocess_log()\n",
    "\n",
    "    # load data\n",
    "    data_loader, train_df, test_df, x_word_dict, y_word_dict, max_case_length, vocab_size_dict, num_output, categorical_features, numerical_features = pipeline.load_data()\n",
    "\n",
    "    # prepare data\n",
    "    train_token_dict_x, train_token_dict_y = pipeline.prepare_data(data_loader, train_df)\n",
    "\n",
    "    # train the model\n",
    "    model = pipeline.train(\n",
    "                categorical_features = categorical_features,\n",
    "                numerical_features = numerical_features,\n",
    "                train_token_dict_x = train_token_dict_x,\n",
    "                train_token_dict_y = train_token_dict_y,\n",
    "                max_case_length = max_case_length,\n",
    "                vocab_size_dict = vocab_size_dict,\n",
    "                num_output = num_output,\n",
    "                num_classes_list = num_classes_list)\n",
    "\n",
    "    # evaluate the model\n",
    "    pipeline.evaluate(model, data_loader, train_df, test_df, max_case_length, x_word_dict, y_word_dict)\n",
    "    print(\"\")\n",
    "    print(\"======================================\")\n",
    "    print(\"======================================\")"
   ]
  },
  {
   "cell_type": "code",
   "execution_count": null,
   "metadata": {},
   "outputs": [],
   "source": [
    "preprocess(additional_columns=[\"Resource\"], target_column=\"Activity\")\n",
    "preprocess(additional_columns=[\"Resource\"], target_column=\"Resource\")"
   ]
  },
  {
   "cell_type": "code",
   "execution_count": 4,
   "metadata": {},
   "outputs": [
    {
     "name": "stdout",
     "output_type": "stream",
     "text": [
      "target_column: Activity\n",
      "dataset_name: 'helpdesk'\n",
      "filepath: 'helpdesk.csv'\n",
      "columns: '['Case ID', 'Activity', 'Complete Timestamp']'\n",
      "additional_columns: '[]'\n",
      "datetime_format: '%Y-%m-%d %H:%M:%S.%f'\n",
      "task: 'next_categorical'\n",
      "Model learning rate: '0.001'\n",
      "Model Epochs: '10'\n",
      "Number of Transformer Layers in Model: '1'\n",
      "Target column: 'concept:name'\n",
      "\n",
      "No preprocessed train-test split for task next_categorical found. Preprocessing...\n",
      "Parsing Event-Log...\n",
      "['Case ID', 'Activity', 'Complete Timestamp']\n",
      "['concept:name']\n",
      "Coding Log Meta-Data...\n"
     ]
    },
    {
     "name": "stderr",
     "output_type": "stream",
     "text": [
      "100%|██████████| 1/1 [00:00<00:00, 65.21it/s]"
     ]
    },
    {
     "name": "stdout",
     "output_type": "stream",
     "text": [
      "Word dictionary for concept:name: {'concept:name##x_word_dict': {'[PAD]': 0, '[UNK]': 1, 'assign-seriousness': 2, 'take-in-charge-ticket': 3, 'resolve-ticket': 4, 'closed': 5, 'insert-ticket': 6, 'wait': 7, 'create-sw-anomaly': 8, 'require-upgrade': 9, 'verified': 10, 'duplicate': 11, 'resolve-sw-anomaly': 12, 'schedule-intervention': 13, 'resolved': 14, 'invalid': 15}, 'concept:name##y_word_dict': {'[PAD]': 0, '[UNK]': 1, 'assign-seriousness': 2, 'take-in-charge-ticket': 3, 'resolve-ticket': 4, 'closed': 5, 'insert-ticket': 6, 'wait': 7, 'create-sw-anomaly': 8, 'require-upgrade': 9, 'verified': 10, 'duplicate': 11, 'resolve-sw-anomaly': 12, 'schedule-intervention': 13, 'resolved': 14, 'invalid': 15}}\n"
     ]
    },
    {
     "name": "stderr",
     "output_type": "stream",
     "text": [
      "\n",
      "c:\\Users\\vince\\anaconda3\\envs\\MasterThesis\\lib\\site-packages\\numpy\\core\\fromnumeric.py:59: FutureWarning: 'DataFrame.swapaxes' is deprecated and will be removed in a future version. Please use 'DataFrame.transpose' instead.\n",
      "  return bound(*args, **kwds)\n"
     ]
    },
    {
     "name": "stdout",
     "output_type": "stream",
     "text": [
      "Loading data from preprocessed train-test split...\n",
      "Preparing data for task next_categorical...\n",
      "Creating model for task next_categorical...\n",
      "Epoch 1/10\n",
      "1121/1121 [==============================] - 62s 40ms/step - loss: 0.7491 - sparse_categorical_accuracy: 0.7579\n",
      "Epoch 2/10\n",
      "1121/1121 [==============================] - 58s 52ms/step - loss: 0.6515 - sparse_categorical_accuracy: 0.7901\n",
      "Epoch 3/10\n",
      "1121/1121 [==============================] - 39s 35ms/step - loss: 0.6432 - sparse_categorical_accuracy: 0.7918\n",
      "Epoch 4/10\n",
      "1121/1121 [==============================] - 35s 32ms/step - loss: 0.6360 - sparse_categorical_accuracy: 0.7941\n",
      "Epoch 5/10\n",
      "1121/1121 [==============================] - 49s 43ms/step - loss: 0.6369 - sparse_categorical_accuracy: 0.7921\n",
      "Epoch 6/10\n",
      "1121/1121 [==============================] - 41s 36ms/step - loss: 0.6312 - sparse_categorical_accuracy: 0.7941\n",
      "Epoch 7/10\n",
      "1121/1121 [==============================] - 36s 32ms/step - loss: 0.6335 - sparse_categorical_accuracy: 0.7941\n",
      "Epoch 8/10\n",
      "1121/1121 [==============================] - 35s 32ms/step - loss: 0.6316 - sparse_categorical_accuracy: 0.7941\n",
      "Epoch 9/10\n",
      "1121/1121 [==============================] - 36s 32ms/step - loss: 0.6288 - sparse_categorical_accuracy: 0.7919\n",
      "Epoch 10/10\n",
      "1121/1121 [==============================] - 34s 31ms/step - loss: 0.6292 - sparse_categorical_accuracy: 0.7929\n"
     ]
    },
    {
     "data": {
      "image/png": "[encoded data removed]",
      "text/plain": [
       "<Figure size 1000x600 with 1 Axes>"
      ]
     },
     "metadata": {},
     "output_type": "display_data"
    },
    {
     "name": "stdout",
     "output_type": "stream",
     "text": [
      "Evaluating...\n",
      "Prefix length: 1\n",
      "29/29 [==============================] - 2s 21ms/step\n",
      "Prefix length: 2\n",
      "29/29 [==============================] - 1s 20ms/step\n",
      "Prefix length: 3\n",
      "28/28 [==============================] - 1s 21ms/step\n",
      "Prefix length: 4\n",
      "12/12 [==============================] - 0s 25ms/step\n",
      "Prefix length: 5\n",
      "5/5 [==============================] - 0s 19ms/step\n",
      "Prefix length: 6\n",
      "3/3 [==============================] - 0s 12ms/step\n",
      "Prefix length: 7\n",
      "2/2 [==============================] - 0s 0s/step\n",
      "Prefix length: 8\n",
      "1/1 [==============================] - 0s 98ms/step\n",
      "Prefix length: 9\n",
      "1/1 [==============================] - 0s 80ms/step\n",
      "Prefix length: 10\n",
      "1/1 [==============================] - 0s 104ms/step\n",
      "Prefix length: 11\n",
      "1/1 [==============================] - 0s 121ms/step\n",
      "Prefix length: 12\n",
      "1/1 [==============================] - 0s 126ms/step\n",
      "Prefix length: 13\n",
      "Prefix length: 14\n",
      "                k    weight  accuracy    fscore  precision    recall\n",
      "0               1  0.275489  0.838428  0.791468   0.823857  0.838428\n",
      "1               2  0.275489  0.724891  0.632493   0.563312  0.724891\n",
      "2               3   0.26015  0.826590  0.775586   0.804216  0.826590\n",
      "3               4  0.107368  0.817927  0.758534   0.746743  0.817927\n",
      "4               5  0.042406  0.737589  0.709118   0.683371  0.737589\n",
      "5               6  0.020752  0.855072  0.811742   0.780440  0.855072\n",
      "6               7  0.009925  0.848485  0.797647   0.766873  0.848485\n",
      "7               8   0.00391  0.692308  0.646853   0.714286  0.692308\n",
      "8               9  0.002105  0.714286  0.690476   0.761905  0.714286\n",
      "9              10  0.001203  1.000000  1.000000   1.000000  1.000000\n",
      "10             11  0.000902  1.000000  1.000000   1.000000  1.000000\n",
      "11             12  0.000301  1.000000  1.000000   1.000000  1.000000\n",
      "12  Weighted Mean            0.797594  0.736718   0.731132  0.797594\n",
      "\n",
      "======================================\n",
      "======================================\n"
     ]
    }
   ],
   "source": [
    "run(additional_columns=[], target_column=\"Activity\")"
   ]
  },
  {
   "cell_type": "code",
   "execution_count": 5,
   "metadata": {},
   "outputs": [
    {
     "name": "stdout",
     "output_type": "stream",
     "text": [
      "target_column: Activity\n",
      "dataset_name: 'helpdesk'\n",
      "filepath: 'helpdesk.csv'\n",
      "columns: '['Case ID', 'Activity', 'Complete Timestamp']'\n",
      "additional_columns: '['Resource']'\n",
      "datetime_format: '%Y-%m-%d %H:%M:%S.%f'\n",
      "task: 'next_categorical'\n",
      "Model learning rate: '0.001'\n",
      "Model Epochs: '10'\n",
      "Number of Transformer Layers in Model: '1'\n",
      "Target column: 'concept:name'\n",
      "\n",
      "Preprocessed train-test split for task next_categorical found. Preprocessing skipped.\n",
      "Loading data from preprocessed train-test split...\n",
      "Preparing data for task next_categorical...\n",
      "Creating model for task next_categorical...\n",
      "Epoch 1/10\n",
      "1121/1121 [==============================] - 63s 42ms/step - loss: 0.7227 - sparse_categorical_accuracy: 0.7761\n",
      "Epoch 2/10\n",
      "1121/1121 [==============================] - 47s 42ms/step - loss: 0.6274 - sparse_categorical_accuracy: 0.8059\n",
      "Epoch 3/10\n",
      "1121/1121 [==============================] - 57s 51ms/step - loss: 0.6117 - sparse_categorical_accuracy: 0.8088\n",
      "Epoch 4/10\n",
      "1121/1121 [==============================] - 75s 67ms/step - loss: 0.6051 - sparse_categorical_accuracy: 0.8098\n",
      "Epoch 5/10\n",
      "1121/1121 [==============================] - 78s 70ms/step - loss: 0.6019 - sparse_categorical_accuracy: 0.8067\n",
      "Epoch 6/10\n",
      "1121/1121 [==============================] - 55s 49ms/step - loss: 0.5938 - sparse_categorical_accuracy: 0.8106\n",
      "Epoch 7/10\n",
      "1121/1121 [==============================] - 53s 47ms/step - loss: 0.5998 - sparse_categorical_accuracy: 0.8106\n",
      "Epoch 8/10\n",
      "1121/1121 [==============================] - 51s 45ms/step - loss: 0.5896 - sparse_categorical_accuracy: 0.8106\n",
      "Epoch 9/10\n",
      "1121/1121 [==============================] - 48s 42ms/step - loss: 0.5884 - sparse_categorical_accuracy: 0.8121\n",
      "Epoch 10/10\n",
      "1121/1121 [==============================] - 49s 43ms/step - loss: 0.5851 - sparse_categorical_accuracy: 0.8119\n"
     ]
    },
    {
     "data": {
      "image/png": "[encoded data removed]",
      "text/plain": [
       "<Figure size 1000x600 with 1 Axes>"
      ]
     },
     "metadata": {},
     "output_type": "display_data"
    },
    {
     "name": "stdout",
     "output_type": "stream",
     "text": [
      "Evaluating...\n",
      "Prefix length: 1\n",
      "29/29 [==============================] - 3s 25ms/step\n",
      "Prefix length: 2\n",
      "29/29 [==============================] - 1s 27ms/step\n",
      "Prefix length: 3\n",
      "28/28 [==============================] - 1s 25ms/step\n",
      "Prefix length: 4\n",
      "12/12 [==============================] - 0s 25ms/step\n",
      "Prefix length: 5\n",
      "5/5 [==============================] - 0s 27ms/step\n",
      "Prefix length: 6\n",
      "3/3 [==============================] - 0s 20ms/step\n",
      "Prefix length: 7\n",
      "2/2 [==============================] - 0s 13ms/step\n",
      "Prefix length: 8\n",
      "1/1 [==============================] - 0s 123ms/step\n",
      "Prefix length: 9\n",
      "1/1 [==============================] - 0s 123ms/step\n",
      "Prefix length: 10\n",
      "1/1 [==============================] - 0s 107ms/step\n",
      "Prefix length: 11\n",
      "1/1 [==============================] - 0s 108ms/step\n",
      "Prefix length: 12\n",
      "1/1 [==============================] - 0s 111ms/step\n",
      "Prefix length: 13\n",
      "Prefix length: 14\n",
      "                k    weight  accuracy    fscore  precision    recall\n",
      "0               1  0.275489  0.836245  0.788100   0.826442  0.836245\n",
      "1               2  0.275489  0.731441  0.647184   0.696186  0.731441\n",
      "2               3   0.26015  0.858960  0.832143   0.812049  0.858960\n",
      "3               4  0.107368  0.854342  0.813987   0.781208  0.854342\n",
      "4               5  0.042406  0.851064  0.821197   0.796398  0.851064\n",
      "5               6  0.020752  0.884058  0.839101   0.803057  0.884058\n",
      "6               7  0.009925  0.848485  0.797647   0.766873  0.848485\n",
      "7               8   0.00391  0.692308  0.646853   0.714286  0.692308\n",
      "8               9  0.002105  0.714286  0.690476   0.761905  0.714286\n",
      "9              10  0.001203  1.000000  1.000000   1.000000  1.000000\n",
      "10             11  0.000902  1.000000  1.000000   1.000000  1.000000\n",
      "11             12  0.000301  1.000000  1.000000   1.000000  1.000000\n",
      "12  Weighted Mean            0.816541  0.765825   0.779450  0.816541\n",
      "\n",
      "======================================\n",
      "======================================\n"
     ]
    }
   ],
   "source": [
    "run(additional_columns=[\"Resource\"], target_column=\"Activity\")"
   ]
  },
  {
   "cell_type": "markdown",
   "metadata": {},
   "source": [
    "## Preprocessing and Loading"
   ]
  },
  {
   "cell_type": "markdown",
   "metadata": {},
   "source": [
    "### Helpdesk"
   ]
  },
  {
   "cell_type": "code",
   "execution_count": null,
   "metadata": {},
   "outputs": [],
   "source": [
    "# Process and load data for the next activity task\n",
    "dataset_name = \"helpdesk\"\n",
    "data_loader, train_df, test_df, x_word_dict, y_word_dict, max_case_length, vocab_size, num_output, num_classes_list = process_and_load_data(\n",
    "    dataset_name = dataset_name,\n",
    "    filepath = \"helpdesk.csv\",\n",
    "    columns = [\"Case ID\", \"Activity\", \"Complete Timestamp\"],\n",
    "    additional_columns = [\"Resource\"],\n",
    "    datetime_format = \"%Y-%m-%d %H:%M:%S.%f\",\n",
    "    task = constants.Task.NEXT_ACTIVITY)"
   ]
  },
  {
   "cell_type": "markdown",
   "metadata": {},
   "source": [
    "### Sepsis"
   ]
  },
  {
   "cell_type": "code",
   "execution_count": null,
   "metadata": {},
   "outputs": [],
   "source": [
    "# Dataset processing\n",
    "dataset_name = \"sepsis\"\n",
    "data_processor = LogsDataProcessor(\n",
    "    name=dataset_name,\n",
    "    filepath=\"sepsis.xes\",\n",
    "    columns=[\"case:concept:name\", \"concept:name\", \"time:timestamp\"],  # specify the columns name containing case_id, activity name and timestamp\n",
    "    additional_columns=[\"org:group\"],\n",
    "    datetime_format=\"%Y-%m-%d %H:%M:%S%z\",\n",
    "    pool=4\n",
    ")\n",
    "data_processor.process_logs(task=constants.Task.NEXT_ACTIVITY, sort_temporally=False)\n",
    "\n",
    "# Garbage collection\n",
    "del data_processor"
   ]
  },
  {
   "cell_type": "markdown",
   "metadata": {},
   "source": [
    "## Data Preparation for Training"
   ]
  },
  {
   "cell_type": "code",
   "execution_count": null,
   "metadata": {},
   "outputs": [],
   "source": [
    "# Prepare training examples for next activity prediction task\n",
    "train_token_x, train_token_y, train_additional_features, num_categorical_features, num_numerical_features = data_loader.prepare_data_next_activity(\n",
    "    train_df, x_word_dict, y_word_dict, max_case_length, full_df=pd.concat([train_df, test_df])\n",
    ")\n",
    "\n",
    "# Garbage collection\n",
    "del data_loader"
   ]
  },
  {
   "cell_type": "markdown",
   "metadata": {},
   "source": [
    "## Model Training"
   ]
  },
  {
   "cell_type": "code",
   "execution_count": null,
   "metadata": {},
   "outputs": [],
   "source": [
    "# Model parameters\n",
    "learning_rate = 0.001\n",
    "batch_size = 12\n",
    "epochs = 3\n",
    "\n",
    "# Define and compile the model\n",
    "model = transformer.get_next_activity_model(\n",
    "    max_case_length=max_case_length,\n",
    "    vocab_size=vocab_size,\n",
    "    output_dim=num_output,\n",
    "    num_categorical_features=num_categorical_features,\n",
    "    num_numerical_features=num_numerical_features,\n",
    "    num_classes_list=num_classes_list,  # Pass the computed number of classes list\n",
    "    num_layers=1\n",
    ")\n",
    "model.compile(\n",
    "    optimizer=tf.keras.optimizers.Adam(learning_rate),\n",
    "    loss=tf.keras.losses.SparseCategoricalCrossentropy(from_logits=True),\n",
    "    metrics=[tf.keras.metrics.SparseCategoricalAccuracy()]\n",
    ")\n",
    "\n",
    "# Train the model\n",
    "if train_additional_features.shape[1] == 0:\n",
    "    model.fit([train_token_x], train_token_y, epochs=epochs, batch_size=batch_size)\n",
    "else:\n",
    "    model.fit([train_token_x, train_additional_features], train_token_y, epochs=epochs, batch_size=batch_size)"
   ]
  },
  {
   "cell_type": "markdown",
   "metadata": {},
   "source": [
    "## Evaluation"
   ]
  },
  {
   "cell_type": "code",
   "execution_count": null,
   "metadata": {},
   "outputs": [],
   "source": [
    "# Prepare lists to store evaluation metrics\n",
    "k, accuracies, fscores, precisions, recalls, weights = [], [], [], [], [], []\n",
    "\n",
    "# Calculate total number of samples\n",
    "total_samples = len(test_df)\n",
    "\n",
    "# Iterate over all prefixes (k)\n",
    "for i in range(max_case_length):\n",
    "    test_data_subset = test_df[test_df[\"k\"] == i]\n",
    "    if len(test_data_subset) > 0:\n",
    "        # Calculate weight for this prefix\n",
    "        weight = len(test_data_subset) / total_samples\n",
    "        \n",
    "        # Prepare the test data\n",
    "        test_token_x, test_token_y, test_additional_features, _, _ = data_loader.prepare_data_next_activity(\n",
    "            test_data_subset, x_word_dict, y_word_dict, max_case_length, full_df=pd.concat([train_df, test_df])\n",
    "        )\n",
    "        \n",
    "        # Make predictions\n",
    "        if test_additional_features.shape[1] != 0:\n",
    "            y_pred = np.argmax(model.predict([test_token_x, test_additional_features]), axis=1)\n",
    "        else:\n",
    "            y_pred = np.argmax(model.predict([test_token_x]), axis=1)\n",
    "        \n",
    "        # Compute metrics\n",
    "        accuracy = metrics.accuracy_score(test_token_y, y_pred)\n",
    "        precision, recall, fscore, _ = metrics.precision_recall_fscore_support(test_token_y, y_pred, average=\"weighted\")\n",
    "        \n",
    "        # Store metrics and weight\n",
    "        k.append(i)\n",
    "        accuracies.append(accuracy)\n",
    "        fscores.append(fscore)\n",
    "        precisions.append(precision)\n",
    "        recalls.append(recall)\n",
    "        weights.append(weight)\n",
    "\n",
    "# Compute weighted mean metrics over all k\n",
    "weighted_accuracy = np.average(accuracies, weights=weights)\n",
    "weighted_fscore = np.average(fscores, weights=weights)\n",
    "weighted_precision = np.average(precisions, weights=weights)\n",
    "weighted_recall = np.average(recalls, weights=weights)\n",
    "\n",
    "# Append weighted mean metrics to the lists\n",
    "k.append(max_case_length)\n",
    "accuracies.append(weighted_accuracy)\n",
    "fscores.append(weighted_fscore)\n",
    "precisions.append(weighted_precision)\n",
    "recalls.append(weighted_recall)\n",
    "\n",
    "# Create a DataFrame to display the results\n",
    "results_df = pd.DataFrame({\n",
    "    'k': k,\n",
    "    'accuracy': accuracies,\n",
    "    'fscore': fscores,\n",
    "    'precision': precisions,\n",
    "    'recall': recalls\n",
    "})\n",
    "\n",
    "# Display the results\n",
    "print(results_df)"
   ]
  },
  {
   "cell_type": "code",
   "execution_count": null,
   "metadata": {},
   "outputs": [],
   "source": [
    "print('Average accuracy across all prefixes:', np.mean(accuracies))\n",
    "print('Average f-score across all prefixes:', np.mean(fscores))\n",
    "print('Average precision across all prefixes:', np.mean(precisions))\n",
    "print('Average recall across all prefixes:', np.mean(recalls))"
   ]
  },
  {
   "cell_type": "markdown",
   "metadata": {},
   "source": [
    "# Task: Next Time  -- Ignored for now"
   ]
  },
  {
   "cell_type": "markdown",
   "metadata": {},
   "source": [
    "## Preprocessing and Loading"
   ]
  },
  {
   "cell_type": "markdown",
   "metadata": {},
   "source": [
    "### Helpdesk"
   ]
  },
  {
   "cell_type": "code",
   "execution_count": null,
   "metadata": {},
   "outputs": [],
   "source": [
    "# Process and load data for the next activity task\n",
    "dataset_name = \"helpdesk\"\n",
    "data_loader, train_df, test_df, x_word_dict, y_word_dict, max_case_length, vocab_size, num_output, num_classes_list = process_and_load_data(\n",
    "    dataset_name = dataset_name,\n",
    "    filepath = \"helpdesk.csv\",\n",
    "    columns = [\"Case ID\", \"Activity\", \"Complete Timestamp\"],\n",
    "    additional_columns = [\"Resource\", \"product\"],\n",
    "    datetime_format = \"%Y-%m-%d %H:%M:%S.%f\",\n",
    "    task = constants.Task.NEXT_TIME)"
   ]
  },
  {
   "cell_type": "markdown",
   "metadata": {},
   "source": [
    "### Sepsis"
   ]
  },
  {
   "cell_type": "code",
   "execution_count": null,
   "metadata": {},
   "outputs": [],
   "source": []
  },
  {
   "cell_type": "markdown",
   "metadata": {},
   "source": [
    "## Data Preparation for Training"
   ]
  },
  {
   "cell_type": "code",
   "execution_count": null,
   "metadata": {},
   "outputs": [],
   "source": [
    "# Prepare training examples for next time prediction task\n",
    "train_token_x, train_time_x, train_token_y, train_additional_features, time_scaler, y_scaler, num_categorical_features, num_numerical_features = data_loader.prepare_data_next_time(\n",
    "    train_df, x_word_dict, max_case_length, shuffle=True)\n",
    "\n",
    "# Garbage collection\n",
    "del data_loader"
   ]
  },
  {
   "cell_type": "markdown",
   "metadata": {},
   "source": [
    "# Task: Remaining Time -- Ignored for now"
   ]
  },
  {
   "cell_type": "markdown",
   "metadata": {},
   "source": [
    "## Preprocessing and Loading"
   ]
  },
  {
   "cell_type": "markdown",
   "metadata": {},
   "source": [
    "### Helpdesk"
   ]
  },
  {
   "cell_type": "code",
   "execution_count": null,
   "metadata": {},
   "outputs": [],
   "source": []
  },
  {
   "cell_type": "markdown",
   "metadata": {},
   "source": [
    "### Sepsis"
   ]
  },
  {
   "cell_type": "code",
   "execution_count": null,
   "metadata": {},
   "outputs": [],
   "source": [
    "# Process and load data for the next time task\n",
    "dataset_name = \"sepsis\"\n",
    "data_loader, train_df, test_df, x_word_dict, y_word_dict, max_case_length, vocab_size, num_output, num_classes_list = process_and_load_data(\n",
    "    dataset_name, \"sepsis.xes\", [\"case:concept:name\", \"concept:name\", \"time:timestamp\"], [\"org:group\"], \"%Y-%m-%d %H:%M:%S%z\", constants.Task.NEXT_TIME)"
   ]
  },
  {
   "cell_type": "markdown",
   "metadata": {},
   "source": [
    "## Data Preparation for Training"
   ]
  },
  {
   "cell_type": "code",
   "execution_count": null,
   "metadata": {},
   "outputs": [],
   "source": []
  }
 ],
 "metadata": {
  "kernelspec": {
   "display_name": "base",
   "language": "python",
   "name": "python3"
  },
  "language_info": {
   "codemirror_mode": {
    "name": "ipython",
    "version": 3
   },
   "file_extension": ".py",
   "mimetype": "text/x-python",
   "name": "python",
   "nbconvert_exporter": "python",
   "pygments_lexer": "ipython3",
   "version": "3.9.19"
  },
  "orig_nbformat": 4
 },
 "nbformat": 4,
 "nbformat_minor": 2
}
