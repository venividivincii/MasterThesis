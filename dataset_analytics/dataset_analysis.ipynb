{
 "cells": [
  {
   "cell_type": "code",
   "execution_count": 4,
   "metadata": {},
   "outputs": [],
   "source": [
    "import os\n",
    "from pathlib import Path\n",
    "import pm4py\n",
    "import pandas as pd\n",
    "from pm4py.visualization.dotted_chart import visualizer as dotted_chart_visualizer\n",
    "from pm4py.objects.log.util import xes as xes_util"
   ]
  },
  {
   "cell_type": "code",
   "execution_count": 5,
   "metadata": {},
   "outputs": [],
   "source": [
    "def create_dotted_chart(event_log, output_file='dotted_chart.png'):\n",
    "    \"\"\"\n",
    "    Creates a dotted chart diagram from an event log using PM4Py.\n",
    "\n",
    "    Parameters:\n",
    "    - event_log: The event log, which can be a Pandas DataFrame or an EventLog object.\n",
    "    - output_file: The filename where the dotted chart image will be saved.\n",
    "    \"\"\"\n",
    "\n",
    "    # Determine if the event log is a DataFrame or EventLog and set keys accordingly\n",
    "    if isinstance(event_log, pd.DataFrame):\n",
    "        parameters = {\n",
    "            dotted_chart_visualizer.Variants.CLASSIC.value.Parameters.CASE_ID_KEY: 'case:concept:name',\n",
    "            dotted_chart_visualizer.Variants.CLASSIC.value.Parameters.ACTIVITY_KEY: 'concept:name',\n",
    "            dotted_chart_visualizer.Variants.CLASSIC.value.Parameters.TIMESTAMP_KEY: 'time:timestamp'\n",
    "        }\n",
    "    else:\n",
    "        # For XES logs, keys are already standardized\n",
    "        parameters = {}\n",
    "\n",
    "    # Apply the dotted chart visualizer\n",
    "    gviz = dotted_chart_visualizer.apply(\n",
    "        event_log,\n",
    "        variant=dotted_chart_visualizer.Variants.CLASSIC,\n",
    "        parameters=parameters\n",
    "    )\n",
    "\n",
    "    # Save the dotted chart to the specified output file\n",
    "    dotted_chart_visualizer.save(gviz, output_file)\n",
    "    print(f\"Dotted chart saved to {output_file}\")"
   ]
  },
  {
   "cell_type": "code",
   "execution_count": 6,
   "metadata": {},
   "outputs": [
    {
     "name": "stdout",
     "output_type": "stream",
     "text": [
      "########## BPIC15_1.xes ##########\n"
     ]
    },
    {
     "name": "stderr",
     "output_type": "stream",
     "text": [
      "c:\\Users\\vince\\anaconda3\\envs\\MasterThesis\\lib\\site-packages\\pm4py\\util\\dt_parsing\\parser.py:77: UserWarning: ISO8601 strings are not fully supported with strpfromiso for Python versions below 3.11\n",
      "  warnings.warn(\n",
      "c:\\Users\\vince\\anaconda3\\envs\\MasterThesis\\lib\\site-packages\\tqdm\\auto.py:21: TqdmWarning: IProgress not found. Please update jupyter and ipywidgets. See https://ipywidgets.readthedocs.io/en/stable/user_install.html\n",
      "  from .autonotebook import tqdm as notebook_tqdm\n",
      "parsing log, completed traces :: 100%|██████████| 1199/1199 [00:47<00:00, 25.28it/s]\n"
     ]
    },
    {
     "ename": "AttributeError",
     "evalue": "CASE_ID_KEY",
     "output_type": "error",
     "traceback": [
      "\u001b[1;31m---------------------------------------------------------------------------\u001b[0m",
      "\u001b[1;31mAttributeError\u001b[0m                            Traceback (most recent call last)",
      "Cell \u001b[1;32mIn[6], line 16\u001b[0m\n\u001b[0;32m     13\u001b[0m \u001b[38;5;28;01melse\u001b[39;00m:\n\u001b[0;32m     14\u001b[0m     \u001b[38;5;28;01mraise\u001b[39;00m \u001b[38;5;167;01mValueError\u001b[39;00m(\u001b[38;5;124mf\u001b[39m\u001b[38;5;124m\"\u001b[39m\u001b[38;5;124mFile type \u001b[39m\u001b[38;5;132;01m{\u001b[39;00mdataset_file\u001b[38;5;241m.\u001b[39msuffix\u001b[38;5;132;01m}\u001b[39;00m\u001b[38;5;124m of dataset \u001b[39m\u001b[38;5;124m'\u001b[39m\u001b[38;5;132;01m{\u001b[39;00mdataset_file\u001b[38;5;132;01m}\u001b[39;00m\u001b[38;5;124m'\u001b[39m\u001b[38;5;124m\"\u001b[39m)\n\u001b[1;32m---> 16\u001b[0m \u001b[43mcreate_dotted_chart\u001b[49m\u001b[43m(\u001b[49m\u001b[43mevent_log\u001b[49m\u001b[43m,\u001b[49m\u001b[43m \u001b[49m\u001b[38;5;124;43mf\u001b[39;49m\u001b[38;5;124;43m\"\u001b[39;49m\u001b[38;5;132;43;01m{\u001b[39;49;00m\u001b[43mdataset_file\u001b[49m\u001b[38;5;241;43m.\u001b[39;49m\u001b[43mname\u001b[49m\u001b[38;5;132;43;01m}\u001b[39;49;00m\u001b[38;5;124;43m__dotted_chart.png\u001b[39;49m\u001b[38;5;124;43m\"\u001b[39;49m\u001b[43m)\u001b[49m\n\u001b[0;32m     18\u001b[0m \u001b[38;5;28;01mbreak\u001b[39;00m\n",
      "Cell \u001b[1;32mIn[5], line 13\u001b[0m, in \u001b[0;36mcreate_dotted_chart\u001b[1;34m(event_log, output_file)\u001b[0m\n\u001b[0;32m     10\u001b[0m \u001b[38;5;66;03m# Determine if the event log is a DataFrame or EventLog and set keys accordingly\u001b[39;00m\n\u001b[0;32m     11\u001b[0m \u001b[38;5;28;01mif\u001b[39;00m \u001b[38;5;28misinstance\u001b[39m(event_log, pd\u001b[38;5;241m.\u001b[39mDataFrame):\n\u001b[0;32m     12\u001b[0m     parameters \u001b[38;5;241m=\u001b[39m {\n\u001b[1;32m---> 13\u001b[0m         \u001b[43mdotted_chart_visualizer\u001b[49m\u001b[38;5;241;43m.\u001b[39;49m\u001b[43mVariants\u001b[49m\u001b[38;5;241;43m.\u001b[39;49m\u001b[43mCLASSIC\u001b[49m\u001b[38;5;241;43m.\u001b[39;49m\u001b[43mvalue\u001b[49m\u001b[38;5;241;43m.\u001b[39;49m\u001b[43mParameters\u001b[49m\u001b[38;5;241;43m.\u001b[39;49m\u001b[43mCASE_ID_KEY\u001b[49m: \u001b[38;5;124m'\u001b[39m\u001b[38;5;124mcase:concept:name\u001b[39m\u001b[38;5;124m'\u001b[39m,\n\u001b[0;32m     14\u001b[0m         dotted_chart_visualizer\u001b[38;5;241m.\u001b[39mVariants\u001b[38;5;241m.\u001b[39mCLASSIC\u001b[38;5;241m.\u001b[39mvalue\u001b[38;5;241m.\u001b[39mParameters\u001b[38;5;241m.\u001b[39mACTIVITY_KEY: \u001b[38;5;124m'\u001b[39m\u001b[38;5;124mconcept:name\u001b[39m\u001b[38;5;124m'\u001b[39m,\n\u001b[0;32m     15\u001b[0m         dotted_chart_visualizer\u001b[38;5;241m.\u001b[39mVariants\u001b[38;5;241m.\u001b[39mCLASSIC\u001b[38;5;241m.\u001b[39mvalue\u001b[38;5;241m.\u001b[39mParameters\u001b[38;5;241m.\u001b[39mTIMESTAMP_KEY: \u001b[38;5;124m'\u001b[39m\u001b[38;5;124mtime:timestamp\u001b[39m\u001b[38;5;124m'\u001b[39m\n\u001b[0;32m     16\u001b[0m     }\n\u001b[0;32m     17\u001b[0m \u001b[38;5;28;01melse\u001b[39;00m:\n\u001b[0;32m     18\u001b[0m     \u001b[38;5;66;03m# For XES logs, keys are already standardized\u001b[39;00m\n\u001b[0;32m     19\u001b[0m     parameters \u001b[38;5;241m=\u001b[39m {}\n",
      "File \u001b[1;32mc:\\Users\\vince\\anaconda3\\envs\\MasterThesis\\lib\\enum.py:429\u001b[0m, in \u001b[0;36mEnumMeta.__getattr__\u001b[1;34m(cls, name)\u001b[0m\n\u001b[0;32m    427\u001b[0m     \u001b[38;5;28;01mreturn\u001b[39;00m \u001b[38;5;28mcls\u001b[39m\u001b[38;5;241m.\u001b[39m_member_map_[name]\n\u001b[0;32m    428\u001b[0m \u001b[38;5;28;01mexcept\u001b[39;00m \u001b[38;5;167;01mKeyError\u001b[39;00m:\n\u001b[1;32m--> 429\u001b[0m     \u001b[38;5;28;01mraise\u001b[39;00m \u001b[38;5;167;01mAttributeError\u001b[39;00m(name) \u001b[38;5;28;01mfrom\u001b[39;00m \u001b[38;5;28;01mNone\u001b[39;00m\n",
      "\u001b[1;31mAttributeError\u001b[0m: CASE_ID_KEY"
     ]
    }
   ],
   "source": [
    "current_dir = Path.cwd()  # Get the current directory\n",
    "\n",
    "# loop over datasets\n",
    "for dataset_file in current_dir.iterdir():\n",
    "    print(f\"########## {dataset_file.name} ##########\")\n",
    "    # csv file\n",
    "    if dataset_file.suffix == \".csv\":\n",
    "        event_log = pd.read_csv(dataset_file, sep=',')\n",
    "        event_log = pm4py.format_dataframe(event_log, case_id='Case ID', activity_key='Activity', timestamp_key='Complete Timestamp') # setup for helpdesk\n",
    "    # xes file\n",
    "    elif dataset_file.suffix == \".xes\":\n",
    "        event_log = pm4py.read_xes(str(dataset_file))\n",
    "    else:\n",
    "        raise ValueError(f\"File type {dataset_file.suffix} of dataset '{dataset_file}'\")\n",
    "    \n",
    "    create_dotted_chart(event_log, f\"{dataset_file.name}__dotted_chart.png\")\n",
    "    \n",
    "    break\n",
    "    "
   ]
  }
 ],
 "metadata": {
  "kernelspec": {
   "display_name": "MasterThesis",
   "language": "python",
   "name": "python3"
  },
  "language_info": {
   "codemirror_mode": {
    "name": "ipython",
    "version": 3
   },
   "file_extension": ".py",
   "mimetype": "text/x-python",
   "name": "python",
   "nbconvert_exporter": "python",
   "pygments_lexer": "ipython3",
   "version": "3.9.19"
  }
 },
 "nbformat": 4,
 "nbformat_minor": 4
}
